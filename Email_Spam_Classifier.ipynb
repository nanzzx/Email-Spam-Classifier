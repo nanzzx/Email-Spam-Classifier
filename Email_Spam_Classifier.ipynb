{
  "nbformat": 4,
  "nbformat_minor": 0,
  "metadata": {
    "colab": {
      "provenance": [],
      "authorship_tag": "ABX9TyPkRuDIcu4yNzlgsN9tTlDZ",
      "include_colab_link": true
    },
    "kernelspec": {
      "name": "python3",
      "display_name": "Python 3"
    },
    "language_info": {
      "name": "python"
    }
  },
  "cells": [
    {
      "cell_type": "markdown",
      "metadata": {
        "id": "view-in-github",
        "colab_type": "text"
      },
      "source": [
        "<a href=\"https://colab.research.google.com/github/nanzzx/Email-Spam-Classifier/blob/main/Email_Spam_Classifier.ipynb\" target=\"_parent\"><img src=\"https://colab.research.google.com/assets/colab-badge.svg\" alt=\"Open In Colab\"/></a>"
      ]
    },
    {
      "cell_type": "code",
      "execution_count": 2,
      "metadata": {
        "id": "NY1dB66JyY3p"
      },
      "outputs": [],
      "source": [
        "import numpy as np\n",
        "import pandas as pd #library for data manipulation\n",
        "from sklearn.model_selection import train_test_split #lib for ml\n",
        "from sklearn.feature_extraction.text import TfidfVectorizer #extraction technique used in NLP\n",
        "from sklearn.linear_model import LogisticRegression #classification alg in ml\n",
        "from sklearn.metrics import accuracy_score #performance metrics"
      ]
    },
    {
      "cell_type": "code",
      "source": [
        "df = pd.read_csv('mail_data.csv')"
      ],
      "metadata": {
        "id": "B5jFF0gI1kXl"
      },
      "execution_count": 4,
      "outputs": []
    },
    {
      "cell_type": "code",
      "source": [
        "print(df)"
      ],
      "metadata": {
        "id": "ZF7X0Ht82FAr"
      },
      "execution_count": null,
      "outputs": []
    },
    {
      "cell_type": "code",
      "source": [
        "data = df.where((pd.notnull(df)), '')"
      ],
      "metadata": {
        "id": "Z-60zQQf2RlW"
      },
      "execution_count": 7,
      "outputs": []
    },
    {
      "cell_type": "code",
      "source": [
        "data.head()"
      ],
      "metadata": {
        "id": "My6thTX52dQx"
      },
      "execution_count": null,
      "outputs": []
    },
    {
      "cell_type": "code",
      "source": [
        "#training the dataset\n",
        "data.info()"
      ],
      "metadata": {
        "id": "NKzBPItl4YL_"
      },
      "execution_count": null,
      "outputs": []
    },
    {
      "cell_type": "code",
      "source": [
        "data.shape #(rows,columns)"
      ],
      "metadata": {
        "id": "hl_nnq9a4esP"
      },
      "execution_count": null,
      "outputs": []
    },
    {
      "cell_type": "code",
      "source": [
        "data.loc[data['Category']=='spam','Category',]=0\n",
        "data.loc[data['Category']=='ham','Category',]=1\n",
        "#0 means span\n",
        "#1 means hand made"
      ],
      "metadata": {
        "id": "5MurdEgd4jMs"
      },
      "execution_count": 11,
      "outputs": []
    },
    {
      "cell_type": "code",
      "source": [
        "X=data['Message']\n",
        "Y=data['Category']"
      ],
      "metadata": {
        "id": "TYnp_ry347sy"
      },
      "execution_count": 13,
      "outputs": []
    },
    {
      "cell_type": "code",
      "source": [
        "print(X)"
      ],
      "metadata": {
        "id": "RNnYh-i55AC7"
      },
      "execution_count": null,
      "outputs": []
    },
    {
      "cell_type": "code",
      "source": [
        "print(Y)\n",
        "#0 means span\n",
        "#1 means hand made"
      ],
      "metadata": {
        "id": "vwV0op2_5Df2"
      },
      "execution_count": null,
      "outputs": []
    },
    {
      "cell_type": "code",
      "source": [
        "X_train,X_test,Y_train,Y_test= train_test_split(X,Y,test_size=0.2,random_state=3) #80% dataset for training and 20% for testing"
      ],
      "metadata": {
        "id": "pfLJESNR5Flr"
      },
      "execution_count": 17,
      "outputs": []
    },
    {
      "cell_type": "code",
      "source": [
        "print(X.shape)\n",
        "print(X_train.shape)\n",
        "print(X_test.shape)"
      ],
      "metadata": {
        "id": "3tmaYPKK5-Zt"
      },
      "execution_count": null,
      "outputs": []
    },
    {
      "cell_type": "code",
      "source": [
        "print(Y.shape)\n",
        "print(Y_train.shape)\n",
        "print(Y_test.shape)"
      ],
      "metadata": {
        "id": "NFb8gumI5ZMK"
      },
      "execution_count": null,
      "outputs": []
    },
    {
      "cell_type": "code",
      "source": [
        "feature_extraction = TfidfVectorizer(min_df=1, stop_words='english', lowercase=True)\n",
        "X_train_features=feature_extraction.fit_transform(X_train)\n",
        "X_test_features=feature_extraction.transform(X_test)\n",
        "\n",
        "Y_train=Y_train.astype('int')\n",
        "Y_test=Y_test.astype('int')"
      ],
      "metadata": {
        "id": "W0EeSHoG6PnC"
      },
      "execution_count": 24,
      "outputs": []
    },
    {
      "cell_type": "code",
      "source": [
        "print(X_train)"
      ],
      "metadata": {
        "id": "NF2qzt326drw"
      },
      "execution_count": null,
      "outputs": []
    },
    {
      "cell_type": "code",
      "source": [
        "print(X_train_features)"
      ],
      "metadata": {
        "id": "WmBQlKHq7TMl"
      },
      "execution_count": null,
      "outputs": []
    },
    {
      "cell_type": "code",
      "source": [
        "model=LogisticRegression()"
      ],
      "metadata": {
        "id": "BSzHnfZo7wUv"
      },
      "execution_count": 29,
      "outputs": []
    },
    {
      "cell_type": "code",
      "source": [
        "model.fit(X_train_features,Y_train)"
      ],
      "metadata": {
        "id": "RJ9UFJ5k76fX"
      },
      "execution_count": null,
      "outputs": []
    },
    {
      "cell_type": "code",
      "source": [
        "prediction_on_training_data=model.predict(X_train_features)\n",
        "accuracy_on_training_data=accuracy_score(Y_train,prediction_on_training_data)"
      ],
      "metadata": {
        "id": "8n8uUNjp8DtS"
      },
      "execution_count": 31,
      "outputs": []
    },
    {
      "cell_type": "code",
      "source": [
        "print('Acc on training data:',accuracy_on_training_data)"
      ],
      "metadata": {
        "id": "dNYqJw0r8iQj"
      },
      "execution_count": null,
      "outputs": []
    },
    {
      "cell_type": "code",
      "source": [
        "prediction_on_test_data=model.predict(X_test_features)\n",
        "accuracy_on_test_data=accuracy_score(Y_test,prediction_on_test_data)"
      ],
      "metadata": {
        "id": "SP0sxKSL8quX"
      },
      "execution_count": 34,
      "outputs": []
    },
    {
      "cell_type": "code",
      "source": [
        "print('Acc on test data:',accuracy_on_test_data)"
      ],
      "metadata": {
        "id": "JybRx80i9CBw"
      },
      "execution_count": null,
      "outputs": []
    },
    {
      "cell_type": "code",
      "source": [
        "input_your_mail=[\"This is the 2nd time we have tried to contact u. U have won the A$400 orize. 2 claim\"]\n",
        "input_data_features=feature_extraction.transform(input_your_mail)\n",
        "prediction=model.predict(input_data_features)\n",
        "print(prediction)\n",
        "if(prediction[0]==1):\n",
        "  print('Hand made mail')\n",
        "\n",
        "else:\n",
        "  print('Spam mail')"
      ],
      "metadata": {
        "id": "1FkoZ9PY9L3d"
      },
      "execution_count": null,
      "outputs": []
    },
    {
      "cell_type": "code",
      "source": [],
      "metadata": {
        "id": "XCC80oQU9nfj"
      },
      "execution_count": null,
      "outputs": []
    }
  ]
}